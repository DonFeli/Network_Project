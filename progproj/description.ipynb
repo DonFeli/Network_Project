{
 "cells": [
  {
   "cell_type": "markdown",
   "metadata": {},
   "source": [
    "# Projet de programmation\n",
    "\n",
    "[Télécharger les données et ce document](progproj.zip)\n",
    "\n",
    "Prénom et nom de chaque participant:\n",
    "\n",
    "* \n",
    "* \n",
    "* \n",
    "\n",
    "Si plusieurs participants: Décrire en quelques lignes les contributions majeures de chaque participant.\n",
    "\n",
    "## Description de l'objectif\n",
    "\n",
    "* Intégrer la représentation du réseau parisien accessible au vélo et les informations de nivellement\n",
    "* Définir une fonction permettant, étant donnés deux points $A$ et $B$, de calculer le plus court chemin entre ces deux points (critère de distance uniquement)\n",
    "* Établir une carte de centralité des arêtes en dénombrant, pour chaque arête, le nombre de chemins les plus courts qui la traversent ([edge betweenness](https://link.springer.com/referenceworkentry/10.1007%2F978-1-4419-9863-7_874#:~:text=Definition,an%20edge%20betweenness%20centrality%20value.))\n",
    "* Définir une fonction permettant, étant donnés deux points $A$ et $B$, de calculer un chemin entre ces deux points avec un maximum de confort\n",
    "* Établir une carte de centralité des arêtes d'après ce nouveau critère\n",
    "\n",
    "Si vous trouvez le projet trop facile: Intégrez ces calculs à OSMnx pour en faire une application web interactive.\n",
    "\n",
    "## Description des données"
   ]
  },
  {
   "cell_type": "code",
   "execution_count": 18,
   "metadata": {},
   "outputs": [],
   "source": [
    "import pandas as pd\n",
    "import json"
   ]
  },
  {
   "cell_type": "markdown",
   "metadata": {},
   "source": [
    "Les données de cartographie ont été obtenues à l'aide de la bibliothèque [OSMnx](https://github.com/gboeing/osmnx) et les données de nivellement à partir des [données de Paris](https://opendata.paris.fr/explore/dataset/plan-de-voirie-repere-de-nivellement/) (format CSV). Ces données ont été traitées pour faciliter leur utilisation dans le cadre de ce projet.\n",
    "\n",
    "Les données de nivellement sont au format CSV (colonne `ALTITUDE`) et comportent de nombreuses informations sur les points où le dénivellé a été déterminé (numéro de rue, longitude, latitude):"
   ]
  },
  {
   "cell_type": "code",
   "execution_count": 29,
   "metadata": {},
   "outputs": [],
   "source": [
    "elevation = pd.read_csv('opendata_paris_nivel_lat_long.csv', index_col=0)"
   ]
  },
  {
   "cell_type": "code",
   "execution_count": 30,
   "metadata": {},
   "outputs": [
    {
     "data": {
      "text/html": [
       "<div>\n",
       "<style scoped>\n",
       "    .dataframe tbody tr th:only-of-type {\n",
       "        vertical-align: middle;\n",
       "    }\n",
       "\n",
       "    .dataframe tbody tr th {\n",
       "        vertical-align: top;\n",
       "    }\n",
       "\n",
       "    .dataframe thead th {\n",
       "        text-align: right;\n",
       "    }\n",
       "</style>\n",
       "<table border=\"1\" class=\"dataframe\">\n",
       "  <thead>\n",
       "    <tr style=\"text-align: right;\">\n",
       "      <th></th>\n",
       "      <th>OBJECTID</th>\n",
       "      <th>NUMERO</th>\n",
       "      <th>IMMEUBLE</th>\n",
       "      <th>DESIGNATION</th>\n",
       "      <th>DENOMINATION</th>\n",
       "      <th>COMPLEMENT</th>\n",
       "      <th>ALTITUDE</th>\n",
       "      <th>ANNEE</th>\n",
       "      <th>X</th>\n",
       "      <th>Y</th>\n",
       "      <th>TYP</th>\n",
       "      <th>geo_shape</th>\n",
       "      <th>geo_point_2d</th>\n",
       "      <th>lat</th>\n",
       "      <th>long</th>\n",
       "    </tr>\n",
       "  </thead>\n",
       "  <tbody>\n",
       "    <tr>\n",
       "      <th>0</th>\n",
       "      <td>14347</td>\n",
       "      <td>rn33088</td>\n",
       "      <td>1</td>\n",
       "      <td>Rue du</td>\n",
       "      <td>CARDINAL MERCIER</td>\n",
       "      <td>#</td>\n",
       "      <td>49.488</td>\n",
       "      <td>1985</td>\n",
       "      <td>599438.429</td>\n",
       "      <td>131177.365</td>\n",
       "      <td>ENSERVICE</td>\n",
       "      <td>{\"type\": \"Point\", \"coordinates\": [2.3288668703...</td>\n",
       "      <td>48.8810365523,2.32886687038</td>\n",
       "      <td>48.881037</td>\n",
       "      <td>2.328867</td>\n",
       "    </tr>\n",
       "    <tr>\n",
       "      <th>1</th>\n",
       "      <td>14355</td>\n",
       "      <td>rn39097</td>\n",
       "      <td>26</td>\n",
       "      <td>Boulevard de</td>\n",
       "      <td>STRASBOURG</td>\n",
       "      <td>#</td>\n",
       "      <td>35.152</td>\n",
       "      <td>1985</td>\n",
       "      <td>601405.488</td>\n",
       "      <td>130114.709</td>\n",
       "      <td>ENSERVICE</td>\n",
       "      <td>{\"type\": \"Point\", \"coordinates\": [2.3556839617...</td>\n",
       "      <td>48.8714789852,2.35568396171</td>\n",
       "      <td>48.871479</td>\n",
       "      <td>2.355684</td>\n",
       "    </tr>\n",
       "    <tr>\n",
       "      <th>2</th>\n",
       "      <td>14364</td>\n",
       "      <td>rn32111</td>\n",
       "      <td>29</td>\n",
       "      <td>Rue de</td>\n",
       "      <td>LISBONNE</td>\n",
       "      <td>Angle rue Mollien</td>\n",
       "      <td>44.063</td>\n",
       "      <td>1983</td>\n",
       "      <td>598304.037</td>\n",
       "      <td>130793.953</td>\n",
       "      <td>ENSERVICE</td>\n",
       "      <td>{\"type\": \"Point\", \"coordinates\": [2.3134011689...</td>\n",
       "      <td>48.8775865507,2.31340116892</td>\n",
       "      <td>48.877587</td>\n",
       "      <td>2.313401</td>\n",
       "    </tr>\n",
       "  </tbody>\n",
       "</table>\n",
       "</div>"
      ],
      "text/plain": [
       "   OBJECTID   NUMERO IMMEUBLE   DESIGNATION      DENOMINATION  \\\n",
       "0     14347  rn33088        1        Rue du  CARDINAL MERCIER   \n",
       "1     14355  rn39097       26  Boulevard de        STRASBOURG   \n",
       "2     14364  rn32111       29        Rue de          LISBONNE   \n",
       "\n",
       "          COMPLEMENT  ALTITUDE ANNEE           X           Y        TYP  \\\n",
       "0                  #    49.488  1985  599438.429  131177.365  ENSERVICE   \n",
       "1                  #    35.152  1985  601405.488  130114.709  ENSERVICE   \n",
       "2  Angle rue Mollien    44.063  1983  598304.037  130793.953  ENSERVICE   \n",
       "\n",
       "                                           geo_shape  \\\n",
       "0  {\"type\": \"Point\", \"coordinates\": [2.3288668703...   \n",
       "1  {\"type\": \"Point\", \"coordinates\": [2.3556839617...   \n",
       "2  {\"type\": \"Point\", \"coordinates\": [2.3134011689...   \n",
       "\n",
       "                  geo_point_2d        lat      long  \n",
       "0  48.8810365523,2.32886687038  48.881037  2.328867  \n",
       "1  48.8714789852,2.35568396171  48.871479  2.355684  \n",
       "2  48.8775865507,2.31340116892  48.877587  2.313401  "
      ]
     },
     "execution_count": 30,
     "metadata": {},
     "output_type": "execute_result"
    }
   ],
   "source": [
    "elevation.head(3)"
   ]
  },
  {
   "cell_type": "markdown",
   "metadata": {},
   "source": [
    "Les données de cartographie ont été obtenues à l'aide de la commande OSMnx suivante, permettant de décrire sous la forme d'un graphe les voies de Paris empruntables par un vélo:\n",
    "\n",
    "```Python\n",
    "ox.graph_from_place('Paris, France', network_type='bike', simplify=True)\n",
    "```\n",
    "\n",
    "Ces informations sont mises à votre disposition par l'entremise de deux fichiers de données:\n",
    "\n",
    "* Un fichier contenant les quelques 20&nbsp;000 nœuds du graphe (`nodes.csv`) et leurs coordonnées géographiques (latitudes et longitudes)\n",
    "* Un fichier contenant les listes d'adjacence (`adjacency.json`)"
   ]
  },
  {
   "cell_type": "code",
   "execution_count": 24,
   "metadata": {},
   "outputs": [],
   "source": [
    "nodes = pd.read_csv('nodes.csv', index_col=0)\n",
    "nodes['nodeid'] = nodes['nodeid'].map(str)"
   ]
  },
  {
   "cell_type": "code",
   "execution_count": 25,
   "metadata": {},
   "outputs": [
    {
     "data": {
      "text/html": [
       "<div>\n",
       "<style scoped>\n",
       "    .dataframe tbody tr th:only-of-type {\n",
       "        vertical-align: middle;\n",
       "    }\n",
       "\n",
       "    .dataframe tbody tr th {\n",
       "        vertical-align: top;\n",
       "    }\n",
       "\n",
       "    .dataframe thead th {\n",
       "        text-align: right;\n",
       "    }\n",
       "</style>\n",
       "<table border=\"1\" class=\"dataframe\">\n",
       "  <thead>\n",
       "    <tr style=\"text-align: right;\">\n",
       "      <th></th>\n",
       "      <th>nodeid</th>\n",
       "      <th>latitude</th>\n",
       "      <th>longitude</th>\n",
       "    </tr>\n",
       "  </thead>\n",
       "  <tbody>\n",
       "    <tr>\n",
       "      <th>0</th>\n",
       "      <td>125730</td>\n",
       "      <td>48.863523</td>\n",
       "      <td>2.410732</td>\n",
       "    </tr>\n",
       "    <tr>\n",
       "      <th>1</th>\n",
       "      <td>125742</td>\n",
       "      <td>48.851852</td>\n",
       "      <td>2.401373</td>\n",
       "    </tr>\n",
       "    <tr>\n",
       "      <th>2</th>\n",
       "      <td>125747</td>\n",
       "      <td>48.854261</td>\n",
       "      <td>2.414664</td>\n",
       "    </tr>\n",
       "  </tbody>\n",
       "</table>\n",
       "</div>"
      ],
      "text/plain": [
       "   nodeid   latitude  longitude\n",
       "0  125730  48.863523   2.410732\n",
       "1  125742  48.851852   2.401373\n",
       "2  125747  48.854261   2.414664"
      ]
     },
     "execution_count": 25,
     "metadata": {},
     "output_type": "execute_result"
    }
   ],
   "source": [
    "nodes.head(3)"
   ]
  },
  {
   "cell_type": "markdown",
   "metadata": {},
   "source": [
    "Chaque nœud correspond à une intersection dans le réseau urbain (par exemple, le croisement entre la rue de la Verrerie et la rue des Archives) et dispose d'un identifiant unique `nodeid`.\n",
    "\n",
    "Par exemple, le nœud `125730` peut être visualisé sur [Google Maps](https://www.google.com/maps/place/48.863523,2.410732) ou [Wolfram|Alpha](https://www.wolframalpha.com/input/?i=latitude+48.863523+longitude%092.410732) en entrant ses coordonnées GPS. En particulier, on peut recourir à une URL de la forme https://www.google.com/maps/place/48.863523,2.410732.\n",
    "\n",
    "Les listes d'adjacence sont stockées sous la forme d'un dictionnaire dont les clefs sont les identifiants `nodeid` des nœuds. À chaque clef/nœud, correspond un dictionnaire dont les clefs sont les nœuds voisins et les valeurs indiquent le nom de la voie et sa longueur (qui peut également être recalculée à l'aide des coordonnées GPS et de la formule de Haversine). Ainsi le node <code>125730</code> est-il connecté à quatre nœuds voisins (<code>268675130</code>, <code>4761621113</code>, <code>244455548</code> et <code>1089076050</code>) via la rue Henri-Duvernois, la rue Louis-Lumière, la rue Louis-Lumière et la rue Louis-Ganne, respectivement."
   ]
  },
  {
   "cell_type": "code",
   "execution_count": 19,
   "metadata": {},
   "outputs": [],
   "source": [
    "with open('adjacency.json', 'r') as infile:\n",
    "    adjacency = json.load(infile)"
   ]
  },
  {
   "cell_type": "code",
   "execution_count": 22,
   "metadata": {},
   "outputs": [
    {
     "data": {
      "text/plain": [
       "{'268675130': {'name': 'Rue Henri Duvernois', 'length': 8.707},\n",
       " '4761621113': {'name': 'Rue Louis Lumière', 'length': 132.79999999999998},\n",
       " '244455548': {'name': 'Rue Louis Lumière', 'length': 105.92499999999998},\n",
       " '1089076050': {'name': 'Rue Louis Ganne', 'length': 124.29}}"
      ]
     },
     "execution_count": 22,
     "metadata": {},
     "output_type": "execute_result"
    }
   ],
   "source": [
    "adjacency['125730']"
   ]
  },
  {
   "cell_type": "markdown",
   "metadata": {},
   "source": [
    "<img src=\"Screenshot_2020-11-21_at_23.14.33_annotated.png\" />"
   ]
  }
 ],
 "metadata": {
  "kernelspec": {
   "display_name": "Python 3",
   "language": "python",
   "name": "python3"
  },
  "language_info": {
   "codemirror_mode": {
    "name": "ipython",
    "version": 3
   },
   "file_extension": ".py",
   "mimetype": "text/x-python",
   "name": "python",
   "nbconvert_exporter": "python",
   "pygments_lexer": "ipython3",
   "version": "3.8.5"
  }
 },
 "nbformat": 4,
 "nbformat_minor": 4
}
